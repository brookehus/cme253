{
 "cells": [
  {
   "cell_type": "code",
   "execution_count": 113,
   "metadata": {
    "collapsed": true
   },
   "outputs": [],
   "source": [
    "import numpy as np\n",
    "import scipy.spatial.distance"
   ]
  },
  {
   "cell_type": "code",
   "execution_count": 101,
   "metadata": {
    "collapsed": true
   },
   "outputs": [],
   "source": [
    "class Atom():\n",
    "    def __init__(self, atomnum, code, resnum, x, y, z):\n",
    "        self.atomnum = int(atomnum)\n",
    "        self.code = code\n",
    "        self.resnum = int(resnum)\n",
    "        self.x = float(x)\n",
    "        self.y = float(y)\n",
    "        self.z = float(z)\n",
    "        \n",
    "        self.pos = np.array([self.x, self.y, self.z])"
   ]
  },
  {
   "cell_type": "code",
   "execution_count": 201,
   "metadata": {
    "collapsed": true
   },
   "outputs": [],
   "source": [
    "#protein_file = './proteins/cln025_trace.pdb'\n",
    "#protein_file = './proteins/cln025.pdb'\n",
    "protein_file = './proteins/1lla.pdb'"
   ]
  },
  {
   "cell_type": "code",
   "execution_count": 202,
   "metadata": {
    "collapsed": false
   },
   "outputs": [],
   "source": [
    "raw_pdb = open(protein_file)\n",
    "atom_list = []\n",
    "for i in raw_pdb.read().split('\\n'):\n",
    "    line_list = i.split()\n",
    "    if len(line_list) > 0:\n",
    "        if(line_list[0] == \"ATOM\"):\n",
    "            #print(line_list)\n",
    "            temp_atom = Atom(line_list[1], line_list[2], line_list[5], line_list[6], line_list[7], line_list[8])\n",
    "            atom_list.append(temp_atom)\n",
    "raw_pdb.close()"
   ]
  },
  {
   "cell_type": "code",
   "execution_count": 203,
   "metadata": {
    "collapsed": true
   },
   "outputs": [],
   "source": [
    "def get_CA_trace(atom_list):\n",
    "    ca_list = []\n",
    "    for atom in atom_list:\n",
    "        if atom.code == 'CA':\n",
    "            ca_list.append(atom) \n",
    "    return(ca_list)"
   ]
  },
  {
   "cell_type": "code",
   "execution_count": 208,
   "metadata": {
    "collapsed": false
   },
   "outputs": [],
   "source": [
    "atom_list = get_CA_trace(atom_list)"
   ]
  },
  {
   "cell_type": "code",
   "execution_count": 104,
   "metadata": {
    "collapsed": false
   },
   "outputs": [],
   "source": [
    "j= atom_list[0]\n",
    "k= atom_list[1]\n",
    "l= atom_list[2]\n",
    "m= atom_list[3]"
   ]
  },
  {
   "cell_type": "code",
   "execution_count": 105,
   "metadata": {
    "collapsed": false
   },
   "outputs": [
    {
     "data": {
      "text/plain": [
       "(4, 'CA', 4, -212.11, 18.53, 64.13, array([-212.11,   18.53,   64.13]))"
      ]
     },
     "execution_count": 105,
     "metadata": {},
     "output_type": "execute_result"
    }
   ],
   "source": [
    "m.atomnum, m.code, m.resnum, m.x, m.y, m.z, m.pos"
   ]
  },
  {
   "cell_type": "code",
   "execution_count": 123,
   "metadata": {
    "collapsed": false
   },
   "outputs": [],
   "source": [
    "# b1 = np.sqrt(np.sum((j.pos - k.pos)**2))\n",
    "# b2 = np.sqrt(np.sum((k.pos - l.pos)**2))\n",
    "# b3 = np.sqrt(np.sum((l.pos - m.pos)**2))\n",
    "b1 = j.pos - k.pos\n",
    "b2 = k.pos - l.pos\n",
    "b3 = l.pos - m.pos"
   ]
  },
  {
   "cell_type": "code",
   "execution_count": 120,
   "metadata": {
    "collapsed": false
   },
   "outputs": [
    {
     "data": {
      "text/plain": [
       "3.906929740857901"
      ]
     },
     "execution_count": 120,
     "metadata": {},
     "output_type": "execute_result"
    }
   ],
   "source": [
    "scipy.spatial.distance.euclidean(j.pos,k.pos)"
   ]
  },
  {
   "cell_type": "code",
   "execution_count": 122,
   "metadata": {
    "collapsed": false
   },
   "outputs": [
    {
     "data": {
      "text/plain": [
       "(3.9069297408579016, 3.8527133295899398, 3.8523758902786125)"
      ]
     },
     "execution_count": 122,
     "metadata": {},
     "output_type": "execute_result"
    }
   ],
   "source": [
    "b1,b2,b3"
   ]
  },
  {
   "cell_type": "code",
   "execution_count": 124,
   "metadata": {
    "collapsed": false
   },
   "outputs": [
    {
     "name": "stdout",
     "output_type": "stream",
     "text": [
      "(array([ 8.5174,  7.8226, -7.8234]), array([-7.5991, -0.5905,  9.2268]))\n"
     ]
    }
   ],
   "source": [
    "c1md = np.cross(b2, b3)\n",
    "c2md = np.cross(b1, b2)\n",
    "print(c1md,c2md)"
   ]
  },
  {
   "cell_type": "code",
   "execution_count": 125,
   "metadata": {
    "collapsed": true
   },
   "outputs": [],
   "source": [
    "def compute_cp(u,v):\n",
    "    out = np.zeros(3)\n",
    "    out[0] = u[1]*v[2] - u[2]*v[1]\n",
    "    out[1] = u[2]*v[0] - u[0]*v[2]\n",
    "    out[2] = u[0]*v[1] - u[1]*v[0]\n",
    "    return(out)"
   ]
  },
  {
   "cell_type": "code",
   "execution_count": 138,
   "metadata": {
    "collapsed": true
   },
   "outputs": [],
   "source": [
    "def compute_dp(u,v):\n",
    "    out = u[0]*v[0] + u[1]*v[1] + u[2]*v[2]\n",
    "    return(out)"
   ]
  },
  {
   "cell_type": "code",
   "execution_count": 126,
   "metadata": {
    "collapsed": false
   },
   "outputs": [
    {
     "name": "stdout",
     "output_type": "stream",
     "text": [
      "[ 8.5174  7.8226 -7.8234]\n"
     ]
    }
   ],
   "source": [
    "c1 = compute_cp(b2,b3)\n",
    "print(c1)"
   ]
  },
  {
   "cell_type": "code",
   "execution_count": 136,
   "metadata": {
    "collapsed": false
   },
   "outputs": [
    {
     "data": {
      "text/plain": [
       "3.85271332958994"
      ]
     },
     "execution_count": 136,
     "metadata": {},
     "output_type": "execute_result"
    }
   ],
   "source": [
    "scipy.spatial.distance.euclidean(b2,0)"
   ]
  },
  {
   "cell_type": "code",
   "execution_count": 127,
   "metadata": {
    "collapsed": false
   },
   "outputs": [
    {
     "name": "stdout",
     "output_type": "stream",
     "text": [
      "[-7.5991 -0.5905  9.2268]\n"
     ]
    }
   ],
   "source": [
    "c2 = compute_cp(b1,b2)\n",
    "print(c2)"
   ]
  },
  {
   "cell_type": "code",
   "execution_count": 139,
   "metadata": {
    "collapsed": false
   },
   "outputs": [
    {
     "data": {
      "text/plain": [
       "3.8527133295899398"
      ]
     },
     "execution_count": 139,
     "metadata": {},
     "output_type": "execute_result"
    }
   ],
   "source": [
    "np.sqrt(compute_dp(b2,b2))"
   ]
  },
  {
   "cell_type": "code",
   "execution_count": 152,
   "metadata": {
    "collapsed": true
   },
   "outputs": [],
   "source": [
    "def compute_dihed(b1,b2,b3):\n",
    "    c1 = compute_cp(b1,b2)\n",
    "    c2 = compute_cp(b2,b3)\n",
    "    temp = compute_cp(c2, c1)\n",
    "    term1 = compute_dp(temp,b2)/np.sqrt(compute_dp(b2,b2))\n",
    "    term2 = compute_dp(c2, c1)\n",
    "    ans = np.arctan2(term1,term2)\n",
    "    return(ans)"
   ]
  },
  {
   "cell_type": "code",
   "execution_count": 156,
   "metadata": {
    "collapsed": true
   },
   "outputs": [],
   "source": [
    "def compute_alpha_angle(a1,a2,a3,a4):\n",
    "    b1 = a1.pos - a2.pos\n",
    "    b2 = a2.pos - a3.pos\n",
    "    b3 = a3.pos - a4.pos\n",
    "    \n",
    "    return compute_dihed(b1,b2,b3)"
   ]
  },
  {
   "cell_type": "code",
   "execution_count": 153,
   "metadata": {
    "collapsed": false
   },
   "outputs": [
    {
     "data": {
      "text/plain": [
       "-2.5810768984633454"
      ]
     },
     "execution_count": 153,
     "metadata": {},
     "output_type": "execute_result"
    }
   ],
   "source": [
    "compute_dihed(b1,b2,b3)"
   ]
  },
  {
   "cell_type": "code",
   "execution_count": 161,
   "metadata": {
    "collapsed": false
   },
   "outputs": [],
   "source": [
    "alpha_angles = []\n",
    "for i in range(1,len(atom_list)-2):\n",
    "    temp_angle = compute_alpha_angle(atom_list[i-1], atom_list[i], atom_list[i+1], atom_list[i+2])\n",
    "    alpha_angles.append(temp_angle)"
   ]
  },
  {
   "cell_type": "code",
   "execution_count": 162,
   "metadata": {
    "collapsed": false
   },
   "outputs": [
    {
     "data": {
      "text/plain": [
       "[-2.5810768984633454,\n",
       " -2.8838641280000821,\n",
       " 1.0289457401802906,\n",
       " 0.17296066408632557,\n",
       " -2.1119247226017563,\n",
       " 2.6739039783726923,\n",
       " -2.576188033424704]"
      ]
     },
     "execution_count": 162,
     "metadata": {},
     "output_type": "execute_result"
    }
   ],
   "source": [
    "alpha_angles"
   ]
  },
  {
   "cell_type": "code",
   "execution_count": 180,
   "metadata": {
    "collapsed": true
   },
   "outputs": [],
   "source": [
    "def compute_dist(a1,a2):\n",
    "    return np.sqrt(np.sum((a1.pos - a2.pos)**2))"
   ]
  },
  {
   "cell_type": "code",
   "execution_count": 206,
   "metadata": {
    "collapsed": true
   },
   "outputs": [],
   "source": [
    "import time"
   ]
  },
  {
   "cell_type": "code",
   "execution_count": 209,
   "metadata": {
    "collapsed": false
   },
   "outputs": [
    {
     "name": "stdout",
     "output_type": "stream",
     "text": [
      "1.35456109047\n"
     ]
    }
   ],
   "source": [
    "t0 = time.time()\n",
    "distances = []\n",
    "for a1 in atom_list[:-3]:\n",
    "    for a2 in atom_list[a1.resnum+2:]:\n",
    "        distances.append(compute_dist(a1,a2)/10.)\n",
    "        #print(a1.resnum, a2.resnum)\n",
    "t1 = time.time()\n",
    "print(t1-t0)"
   ]
  },
  {
   "cell_type": "code",
   "execution_count": 210,
   "metadata": {
    "collapsed": false
   },
   "outputs": [
    {
     "data": {
      "text/plain": [
       "37.6266969575"
      ]
     },
     "execution_count": 210,
     "metadata": {},
     "output_type": "execute_result"
    }
   ],
   "source": [
    "1.35456109047*1/60*1/60*100000"
   ]
  },
  {
   "cell_type": "code",
   "execution_count": 183,
   "metadata": {
    "collapsed": false
   },
   "outputs": [
    {
     "name": "stdout",
     "output_type": "stream",
     "text": [
      "[0.99265855156745497, 1.2427972481462928, 1.2173697055537409, 1.0143421513473645, 0.84055338914312894, 0.57230149396974306, 0.49548965680425711, 0.90569641712882965, 0.88633740753733348, 0.65638631917491985, 0.59464022736441269, 0.45483843285280878, 0.62716584728443237, 0.58372082368200728, 0.51721658906110224, 0.52876554350676241, 0.63281750923943225, 0.79713298765011631, 0.53135016702735716, 0.76610769477926566, 0.91804901829912988, 1.1572972824646215, 0.81798105112526898, 1.0840239849744999, 1.2930533631679697, 0.88749760563057278, 1.1297021731412227, 0.96985050394377725]\n"
     ]
    }
   ],
   "source": [
    "distances = []\n",
    "for a1 in atom_list[:-3]:\n",
    "    for a2 in atom_list[a1.resnum+2:]:\n",
    "        distances.append(compute_dist(a1,a2)/10.)\n",
    "        #print(a1.resnum, a2.resnum)\n",
    "print(distances)"
   ]
  },
  {
   "cell_type": "code",
   "execution_count": 190,
   "metadata": {
    "collapsed": false
   },
   "outputs": [
    {
     "data": {
      "text/plain": [
       "[(0.99265855156745497, 0.99265856),\n",
       " (1.2427972481462928, 1.2427971),\n",
       " (1.2173697055537409, 1.2173699),\n",
       " (1.0143421513473645, 1.0143422),\n",
       " (0.84055338914312894, 0.84055322),\n",
       " (0.57230149396974306, 0.57230127),\n",
       " (0.49548965680425711, 0.49548906),\n",
       " (0.90569641712882965, 0.90569609),\n",
       " (0.88633740753733348, 0.88633758),\n",
       " (0.65638631917491985, 0.65638632),\n",
       " (0.59464022736441269, 0.59464025),\n",
       " (0.45483843285280878, 0.45483851),\n",
       " (0.62716584728443237, 0.62716573),\n",
       " (0.58372082368200728, 0.58372086),\n",
       " (0.51721658906110224, 0.51721591),\n",
       " (0.52876554350676241, 0.52876502),\n",
       " (0.63281750923943225, 0.63281673),\n",
       " (0.79713298765011631, 0.79713213),\n",
       " (0.53135016702735716, 0.53134918),\n",
       " (0.76610769477926566, 0.7661072),\n",
       " (0.91804901829912988, 0.9180485),\n",
       " (1.1572972824646215, 1.1572967),\n",
       " (0.81798105112526898, 0.81798035),\n",
       " (1.0840239849744999, 1.0840232),\n",
       " (1.2930533631679697, 1.2930526),\n",
       " (0.88749760563057278, 0.88749778),\n",
       " (1.1297021731412227, 1.1297022),\n",
       " (0.96985050394377725, 0.9698506)]"
      ]
     },
     "execution_count": 190,
     "metadata": {},
     "output_type": "execute_result"
    }
   ],
   "source": [
    "zip(distances, msmb_contacts[0][0])"
   ]
  },
  {
   "cell_type": "code",
   "execution_count": 191,
   "metadata": {
    "collapsed": true
   },
   "outputs": [],
   "source": [
    "assert np.allclose(distances, msmb_contacts[0][0])"
   ]
  },
  {
   "cell_type": "code",
   "execution_count": 192,
   "metadata": {
    "collapsed": true
   },
   "outputs": [],
   "source": [
    "np.allclose??"
   ]
  },
  {
   "cell_type": "code",
   "execution_count": null,
   "metadata": {
    "collapsed": true
   },
   "outputs": [],
   "source": []
  },
  {
   "cell_type": "code",
   "execution_count": null,
   "metadata": {
    "collapsed": true
   },
   "outputs": [],
   "source": []
  },
  {
   "cell_type": "code",
   "execution_count": null,
   "metadata": {
    "collapsed": true
   },
   "outputs": [],
   "source": []
  },
  {
   "cell_type": "code",
   "execution_count": null,
   "metadata": {
    "collapsed": true
   },
   "outputs": [],
   "source": []
  },
  {
   "cell_type": "code",
   "execution_count": 167,
   "metadata": {
    "collapsed": true
   },
   "outputs": [],
   "source": [
    "import pandas as pd"
   ]
  },
  {
   "cell_type": "code",
   "execution_count": 164,
   "metadata": {
    "collapsed": false
   },
   "outputs": [],
   "source": [
    "import mdtraj as md\n",
    "from msmbuilder.featurizer import AlphaAngleFeaturizer\n",
    "from msmbuilder.featurizer import ContactFeaturizer"
   ]
  },
  {
   "cell_type": "code",
   "execution_count": 211,
   "metadata": {
    "collapsed": true
   },
   "outputs": [],
   "source": [
    "t = md.load(protein_file)"
   ]
  },
  {
   "cell_type": "code",
   "execution_count": 146,
   "metadata": {
    "collapsed": true
   },
   "outputs": [],
   "source": [
    "feat = AlphaAngleFeaturizer(sincos=False)"
   ]
  },
  {
   "cell_type": "code",
   "execution_count": 151,
   "metadata": {
    "collapsed": false
   },
   "outputs": [
    {
     "data": {
      "text/plain": [
       "[array([[-2.58107948, -2.88386488,  1.02894557,  0.17296059, -2.11192536,\n",
       "          2.67390347, -2.57618546]], dtype=float32)]"
      ]
     },
     "execution_count": 151,
     "metadata": {},
     "output_type": "execute_result"
    }
   ],
   "source": [
    "feat.fit_transform(t)"
   ]
  },
  {
   "cell_type": "code",
   "execution_count": 212,
   "metadata": {
    "collapsed": true
   },
   "outputs": [],
   "source": [
    "con = ContactFeaturizer(scheme='CA')"
   ]
  },
  {
   "cell_type": "code",
   "execution_count": 213,
   "metadata": {
    "collapsed": false
   },
   "outputs": [
    {
     "name": "stdout",
     "output_type": "stream",
     "text": [
      "3.0936460495\n"
     ]
    }
   ],
   "source": [
    "t2 = time.time()\n",
    "msmb_contacts = con.fit_transform(t)\n",
    "t3 = time.time()\n",
    "print(t3-t2)"
   ]
  },
  {
   "cell_type": "code",
   "execution_count": 169,
   "metadata": {
    "collapsed": false
   },
   "outputs": [],
   "source": [
    "df = con.describe_features(t)"
   ]
  },
  {
   "cell_type": "code",
   "execution_count": 173,
   "metadata": {
    "collapsed": false
   },
   "outputs": [
    {
     "data": {
      "text/html": [
       "<div>\n",
       "<table border=\"1\" class=\"dataframe\">\n",
       "  <thead>\n",
       "    <tr style=\"text-align: right;\">\n",
       "      <th></th>\n",
       "      <th>atominds</th>\n",
       "      <th>featuregroup</th>\n",
       "      <th>featurizer</th>\n",
       "      <th>otherinfo</th>\n",
       "      <th>resids</th>\n",
       "      <th>resnames</th>\n",
       "      <th>resseqs</th>\n",
       "    </tr>\n",
       "  </thead>\n",
       "  <tbody>\n",
       "    <tr>\n",
       "      <th>0</th>\n",
       "      <td>N/A</td>\n",
       "      <td>CA</td>\n",
       "      <td>Contact</td>\n",
       "      <td>Ignore_Protein True</td>\n",
       "      <td>[0, 3]</td>\n",
       "      <td>[TYR, PRO]</td>\n",
       "      <td>[1, 4]</td>\n",
       "    </tr>\n",
       "    <tr>\n",
       "      <th>1</th>\n",
       "      <td>N/A</td>\n",
       "      <td>CA</td>\n",
       "      <td>Contact</td>\n",
       "      <td>Ignore_Protein True</td>\n",
       "      <td>[0, 4]</td>\n",
       "      <td>[TYR, GLU]</td>\n",
       "      <td>[1, 5]</td>\n",
       "    </tr>\n",
       "    <tr>\n",
       "      <th>2</th>\n",
       "      <td>N/A</td>\n",
       "      <td>CA</td>\n",
       "      <td>Contact</td>\n",
       "      <td>Ignore_Protein True</td>\n",
       "      <td>[0, 5]</td>\n",
       "      <td>[TYR, THR]</td>\n",
       "      <td>[1, 6]</td>\n",
       "    </tr>\n",
       "    <tr>\n",
       "      <th>3</th>\n",
       "      <td>N/A</td>\n",
       "      <td>CA</td>\n",
       "      <td>Contact</td>\n",
       "      <td>Ignore_Protein True</td>\n",
       "      <td>[0, 6]</td>\n",
       "      <td>[TYR, GLY]</td>\n",
       "      <td>[1, 7]</td>\n",
       "    </tr>\n",
       "    <tr>\n",
       "      <th>4</th>\n",
       "      <td>N/A</td>\n",
       "      <td>CA</td>\n",
       "      <td>Contact</td>\n",
       "      <td>Ignore_Protein True</td>\n",
       "      <td>[0, 7]</td>\n",
       "      <td>[TYR, THR]</td>\n",
       "      <td>[1, 8]</td>\n",
       "    </tr>\n",
       "    <tr>\n",
       "      <th>5</th>\n",
       "      <td>N/A</td>\n",
       "      <td>CA</td>\n",
       "      <td>Contact</td>\n",
       "      <td>Ignore_Protein True</td>\n",
       "      <td>[0, 8]</td>\n",
       "      <td>[TYR, TRP]</td>\n",
       "      <td>[1, 9]</td>\n",
       "    </tr>\n",
       "    <tr>\n",
       "      <th>6</th>\n",
       "      <td>N/A</td>\n",
       "      <td>CA</td>\n",
       "      <td>Contact</td>\n",
       "      <td>Ignore_Protein True</td>\n",
       "      <td>[0, 9]</td>\n",
       "      <td>[TYR, TYR]</td>\n",
       "      <td>[1, 10]</td>\n",
       "    </tr>\n",
       "    <tr>\n",
       "      <th>7</th>\n",
       "      <td>N/A</td>\n",
       "      <td>CA</td>\n",
       "      <td>Contact</td>\n",
       "      <td>Ignore_Protein True</td>\n",
       "      <td>[1, 4]</td>\n",
       "      <td>[TYR, GLU]</td>\n",
       "      <td>[2, 5]</td>\n",
       "    </tr>\n",
       "    <tr>\n",
       "      <th>8</th>\n",
       "      <td>N/A</td>\n",
       "      <td>CA</td>\n",
       "      <td>Contact</td>\n",
       "      <td>Ignore_Protein True</td>\n",
       "      <td>[1, 5]</td>\n",
       "      <td>[TYR, THR]</td>\n",
       "      <td>[2, 6]</td>\n",
       "    </tr>\n",
       "    <tr>\n",
       "      <th>9</th>\n",
       "      <td>N/A</td>\n",
       "      <td>CA</td>\n",
       "      <td>Contact</td>\n",
       "      <td>Ignore_Protein True</td>\n",
       "      <td>[1, 6]</td>\n",
       "      <td>[TYR, GLY]</td>\n",
       "      <td>[2, 7]</td>\n",
       "    </tr>\n",
       "    <tr>\n",
       "      <th>10</th>\n",
       "      <td>N/A</td>\n",
       "      <td>CA</td>\n",
       "      <td>Contact</td>\n",
       "      <td>Ignore_Protein True</td>\n",
       "      <td>[1, 7]</td>\n",
       "      <td>[TYR, THR]</td>\n",
       "      <td>[2, 8]</td>\n",
       "    </tr>\n",
       "    <tr>\n",
       "      <th>11</th>\n",
       "      <td>N/A</td>\n",
       "      <td>CA</td>\n",
       "      <td>Contact</td>\n",
       "      <td>Ignore_Protein True</td>\n",
       "      <td>[1, 8]</td>\n",
       "      <td>[TYR, TRP]</td>\n",
       "      <td>[2, 9]</td>\n",
       "    </tr>\n",
       "    <tr>\n",
       "      <th>12</th>\n",
       "      <td>N/A</td>\n",
       "      <td>CA</td>\n",
       "      <td>Contact</td>\n",
       "      <td>Ignore_Protein True</td>\n",
       "      <td>[1, 9]</td>\n",
       "      <td>[TYR, TYR]</td>\n",
       "      <td>[2, 10]</td>\n",
       "    </tr>\n",
       "    <tr>\n",
       "      <th>13</th>\n",
       "      <td>N/A</td>\n",
       "      <td>CA</td>\n",
       "      <td>Contact</td>\n",
       "      <td>Ignore_Protein True</td>\n",
       "      <td>[2, 5]</td>\n",
       "      <td>[ASP, THR]</td>\n",
       "      <td>[3, 6]</td>\n",
       "    </tr>\n",
       "    <tr>\n",
       "      <th>14</th>\n",
       "      <td>N/A</td>\n",
       "      <td>CA</td>\n",
       "      <td>Contact</td>\n",
       "      <td>Ignore_Protein True</td>\n",
       "      <td>[2, 6]</td>\n",
       "      <td>[ASP, GLY]</td>\n",
       "      <td>[3, 7]</td>\n",
       "    </tr>\n",
       "    <tr>\n",
       "      <th>15</th>\n",
       "      <td>N/A</td>\n",
       "      <td>CA</td>\n",
       "      <td>Contact</td>\n",
       "      <td>Ignore_Protein True</td>\n",
       "      <td>[2, 7]</td>\n",
       "      <td>[ASP, THR]</td>\n",
       "      <td>[3, 8]</td>\n",
       "    </tr>\n",
       "    <tr>\n",
       "      <th>16</th>\n",
       "      <td>N/A</td>\n",
       "      <td>CA</td>\n",
       "      <td>Contact</td>\n",
       "      <td>Ignore_Protein True</td>\n",
       "      <td>[2, 8]</td>\n",
       "      <td>[ASP, TRP]</td>\n",
       "      <td>[3, 9]</td>\n",
       "    </tr>\n",
       "    <tr>\n",
       "      <th>17</th>\n",
       "      <td>N/A</td>\n",
       "      <td>CA</td>\n",
       "      <td>Contact</td>\n",
       "      <td>Ignore_Protein True</td>\n",
       "      <td>[2, 9]</td>\n",
       "      <td>[ASP, TYR]</td>\n",
       "      <td>[3, 10]</td>\n",
       "    </tr>\n",
       "    <tr>\n",
       "      <th>18</th>\n",
       "      <td>N/A</td>\n",
       "      <td>CA</td>\n",
       "      <td>Contact</td>\n",
       "      <td>Ignore_Protein True</td>\n",
       "      <td>[3, 6]</td>\n",
       "      <td>[PRO, GLY]</td>\n",
       "      <td>[4, 7]</td>\n",
       "    </tr>\n",
       "    <tr>\n",
       "      <th>19</th>\n",
       "      <td>N/A</td>\n",
       "      <td>CA</td>\n",
       "      <td>Contact</td>\n",
       "      <td>Ignore_Protein True</td>\n",
       "      <td>[3, 7]</td>\n",
       "      <td>[PRO, THR]</td>\n",
       "      <td>[4, 8]</td>\n",
       "    </tr>\n",
       "    <tr>\n",
       "      <th>20</th>\n",
       "      <td>N/A</td>\n",
       "      <td>CA</td>\n",
       "      <td>Contact</td>\n",
       "      <td>Ignore_Protein True</td>\n",
       "      <td>[3, 8]</td>\n",
       "      <td>[PRO, TRP]</td>\n",
       "      <td>[4, 9]</td>\n",
       "    </tr>\n",
       "    <tr>\n",
       "      <th>21</th>\n",
       "      <td>N/A</td>\n",
       "      <td>CA</td>\n",
       "      <td>Contact</td>\n",
       "      <td>Ignore_Protein True</td>\n",
       "      <td>[3, 9]</td>\n",
       "      <td>[PRO, TYR]</td>\n",
       "      <td>[4, 10]</td>\n",
       "    </tr>\n",
       "    <tr>\n",
       "      <th>22</th>\n",
       "      <td>N/A</td>\n",
       "      <td>CA</td>\n",
       "      <td>Contact</td>\n",
       "      <td>Ignore_Protein True</td>\n",
       "      <td>[4, 7]</td>\n",
       "      <td>[GLU, THR]</td>\n",
       "      <td>[5, 8]</td>\n",
       "    </tr>\n",
       "    <tr>\n",
       "      <th>23</th>\n",
       "      <td>N/A</td>\n",
       "      <td>CA</td>\n",
       "      <td>Contact</td>\n",
       "      <td>Ignore_Protein True</td>\n",
       "      <td>[4, 8]</td>\n",
       "      <td>[GLU, TRP]</td>\n",
       "      <td>[5, 9]</td>\n",
       "    </tr>\n",
       "    <tr>\n",
       "      <th>24</th>\n",
       "      <td>N/A</td>\n",
       "      <td>CA</td>\n",
       "      <td>Contact</td>\n",
       "      <td>Ignore_Protein True</td>\n",
       "      <td>[4, 9]</td>\n",
       "      <td>[GLU, TYR]</td>\n",
       "      <td>[5, 10]</td>\n",
       "    </tr>\n",
       "    <tr>\n",
       "      <th>25</th>\n",
       "      <td>N/A</td>\n",
       "      <td>CA</td>\n",
       "      <td>Contact</td>\n",
       "      <td>Ignore_Protein True</td>\n",
       "      <td>[5, 8]</td>\n",
       "      <td>[THR, TRP]</td>\n",
       "      <td>[6, 9]</td>\n",
       "    </tr>\n",
       "    <tr>\n",
       "      <th>26</th>\n",
       "      <td>N/A</td>\n",
       "      <td>CA</td>\n",
       "      <td>Contact</td>\n",
       "      <td>Ignore_Protein True</td>\n",
       "      <td>[5, 9]</td>\n",
       "      <td>[THR, TYR]</td>\n",
       "      <td>[6, 10]</td>\n",
       "    </tr>\n",
       "    <tr>\n",
       "      <th>27</th>\n",
       "      <td>N/A</td>\n",
       "      <td>CA</td>\n",
       "      <td>Contact</td>\n",
       "      <td>Ignore_Protein True</td>\n",
       "      <td>[6, 9]</td>\n",
       "      <td>[GLY, TYR]</td>\n",
       "      <td>[7, 10]</td>\n",
       "    </tr>\n",
       "  </tbody>\n",
       "</table>\n",
       "</div>"
      ],
      "text/plain": [
       "   atominds featuregroup featurizer            otherinfo  resids    resnames  \\\n",
       "0       N/A           CA    Contact  Ignore_Protein True  [0, 3]  [TYR, PRO]   \n",
       "1       N/A           CA    Contact  Ignore_Protein True  [0, 4]  [TYR, GLU]   \n",
       "2       N/A           CA    Contact  Ignore_Protein True  [0, 5]  [TYR, THR]   \n",
       "3       N/A           CA    Contact  Ignore_Protein True  [0, 6]  [TYR, GLY]   \n",
       "4       N/A           CA    Contact  Ignore_Protein True  [0, 7]  [TYR, THR]   \n",
       "5       N/A           CA    Contact  Ignore_Protein True  [0, 8]  [TYR, TRP]   \n",
       "6       N/A           CA    Contact  Ignore_Protein True  [0, 9]  [TYR, TYR]   \n",
       "7       N/A           CA    Contact  Ignore_Protein True  [1, 4]  [TYR, GLU]   \n",
       "8       N/A           CA    Contact  Ignore_Protein True  [1, 5]  [TYR, THR]   \n",
       "9       N/A           CA    Contact  Ignore_Protein True  [1, 6]  [TYR, GLY]   \n",
       "10      N/A           CA    Contact  Ignore_Protein True  [1, 7]  [TYR, THR]   \n",
       "11      N/A           CA    Contact  Ignore_Protein True  [1, 8]  [TYR, TRP]   \n",
       "12      N/A           CA    Contact  Ignore_Protein True  [1, 9]  [TYR, TYR]   \n",
       "13      N/A           CA    Contact  Ignore_Protein True  [2, 5]  [ASP, THR]   \n",
       "14      N/A           CA    Contact  Ignore_Protein True  [2, 6]  [ASP, GLY]   \n",
       "15      N/A           CA    Contact  Ignore_Protein True  [2, 7]  [ASP, THR]   \n",
       "16      N/A           CA    Contact  Ignore_Protein True  [2, 8]  [ASP, TRP]   \n",
       "17      N/A           CA    Contact  Ignore_Protein True  [2, 9]  [ASP, TYR]   \n",
       "18      N/A           CA    Contact  Ignore_Protein True  [3, 6]  [PRO, GLY]   \n",
       "19      N/A           CA    Contact  Ignore_Protein True  [3, 7]  [PRO, THR]   \n",
       "20      N/A           CA    Contact  Ignore_Protein True  [3, 8]  [PRO, TRP]   \n",
       "21      N/A           CA    Contact  Ignore_Protein True  [3, 9]  [PRO, TYR]   \n",
       "22      N/A           CA    Contact  Ignore_Protein True  [4, 7]  [GLU, THR]   \n",
       "23      N/A           CA    Contact  Ignore_Protein True  [4, 8]  [GLU, TRP]   \n",
       "24      N/A           CA    Contact  Ignore_Protein True  [4, 9]  [GLU, TYR]   \n",
       "25      N/A           CA    Contact  Ignore_Protein True  [5, 8]  [THR, TRP]   \n",
       "26      N/A           CA    Contact  Ignore_Protein True  [5, 9]  [THR, TYR]   \n",
       "27      N/A           CA    Contact  Ignore_Protein True  [6, 9]  [GLY, TYR]   \n",
       "\n",
       "    resseqs  \n",
       "0    [1, 4]  \n",
       "1    [1, 5]  \n",
       "2    [1, 6]  \n",
       "3    [1, 7]  \n",
       "4    [1, 8]  \n",
       "5    [1, 9]  \n",
       "6   [1, 10]  \n",
       "7    [2, 5]  \n",
       "8    [2, 6]  \n",
       "9    [2, 7]  \n",
       "10   [2, 8]  \n",
       "11   [2, 9]  \n",
       "12  [2, 10]  \n",
       "13   [3, 6]  \n",
       "14   [3, 7]  \n",
       "15   [3, 8]  \n",
       "16   [3, 9]  \n",
       "17  [3, 10]  \n",
       "18   [4, 7]  \n",
       "19   [4, 8]  \n",
       "20   [4, 9]  \n",
       "21  [4, 10]  \n",
       "22   [5, 8]  \n",
       "23   [5, 9]  \n",
       "24  [5, 10]  \n",
       "25   [6, 9]  \n",
       "26  [6, 10]  \n",
       "27  [7, 10]  "
      ]
     },
     "execution_count": 173,
     "metadata": {},
     "output_type": "execute_result"
    }
   ],
   "source": [
    "pd.DataFrame(df)"
   ]
  },
  {
   "cell_type": "code",
   "execution_count": null,
   "metadata": {
    "collapsed": true
   },
   "outputs": [],
   "source": [
    "#         ca = [a.index for a in traj.top.atoms if a.name == 'CA']\n",
    "#         if len(ca) < 4:\n",
    "#             return np.zeros((len(traj), 0), dtype=np.float32)\n",
    "\n",
    "#         alpha_indices = np.array(\n",
    "#             [(ca[i - 1], ca[i], ca[i + 1], ca[i + 2]) for i in range(1, len(ca) - 2)])\n",
    "#         result = md.compute_dihedrals(traj, alpha_indices)"
   ]
  },
  {
   "cell_type": "code",
   "execution_count": null,
   "metadata": {
    "collapsed": true
   },
   "outputs": [],
   "source": [
    "# def _dihedral(traj, indices, periodic, out=None):\n",
    "#     \"\"\"Compute the dihedral angles of traj for the atom indices in indices.\n",
    "#     Parameters\n",
    "#     ----------\n",
    "#     xyz : np.ndarray, shape=(num_frames, num_atoms, 3), dtype=float\n",
    "#         The XYZ coordinates of a trajectory\n",
    "#     indices : np.ndarray, shape=(num_dihedrals, 4), dtype=int\n",
    "#         Atom indices to compute dihedrals.\n",
    "#     periodic : bool, default=True\n",
    "#         If `periodic` is True and the trajectory contains unitcell\n",
    "#         information, we will treat dihedrals that cross periodic images\n",
    "#         using the minimum image convention.\n",
    "#     Returns\n",
    "#     -------\n",
    "#     dih : np.ndarray, shape=(num_dihedrals), dtype=float\n",
    "#         dih[i,j] gives the dihedral angle at traj[i] correponding to indices[j].\n",
    "#     \"\"\"\n",
    "#     ix10 = indices[:, [0, 1]]\n",
    "#     ix21 = indices[:, [1, 2]]\n",
    "#     ix32 = indices[:, [2, 3]]\n",
    "\n",
    "#     b1 = distance.compute_displacements(traj, ix10, periodic=periodic, opt=False)\n",
    "#     b2 = distance.compute_displacements(traj, ix21, periodic=periodic, opt=False)\n",
    "#     b3 = distance.compute_displacements(traj, ix32, periodic=periodic, opt=False)\n",
    "\n",
    "#     c1 = np.cross(b2, b3)\n",
    "#     c2 = np.cross(b1, b2)\n",
    "\n",
    "#     p1 = (b1 * c1).sum(-1)\n",
    "#     p1 *= (b2 * b2).sum(-1) ** 0.5\n",
    "#     p2 = (c1 * c2).sum(-1)\n",
    "\n",
    "#     return np.arctan2(p1, p2, out)"
   ]
  },
  {
   "cell_type": "code",
   "execution_count": null,
   "metadata": {
    "collapsed": true
   },
   "outputs": [],
   "source": []
  },
  {
   "cell_type": "code",
   "execution_count": null,
   "metadata": {
    "collapsed": true
   },
   "outputs": [],
   "source": []
  },
  {
   "cell_type": "code",
   "execution_count": null,
   "metadata": {
    "collapsed": true
   },
   "outputs": [],
   "source": []
  },
  {
   "cell_type": "code",
   "execution_count": null,
   "metadata": {
    "collapsed": true
   },
   "outputs": [],
   "source": []
  }
 ],
 "metadata": {
  "kernelspec": {
   "display_name": "Python 2",
   "language": "python",
   "name": "python2"
  },
  "language_info": {
   "codemirror_mode": {
    "name": "ipython",
    "version": 2
   },
   "file_extension": ".py",
   "mimetype": "text/x-python",
   "name": "python",
   "nbconvert_exporter": "python",
   "pygments_lexer": "ipython2",
   "version": "2.7.11"
  }
 },
 "nbformat": 4,
 "nbformat_minor": 0
}
