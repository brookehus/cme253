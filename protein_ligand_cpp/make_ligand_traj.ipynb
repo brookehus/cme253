{
 "cells": [
  {
   "cell_type": "code",
   "execution_count": null,
   "metadata": {
    "collapsed": true
   },
   "outputs": [],
   "source": [
    "# ATOM   4574  O   ZE  X 296      -4.600  -5.348   0.962  0.00  0.00            \n",
    "# ATOM   4575  C   ZE  X 296      -4.466  -4.125   0.982  0.00  0.00            \n",
    "# ATOM   4576  OXT ZE  X 296      -4.725  -3.531   2.028  0.00  0.00            \n",
    "# ATOM   4577  CA  ZE  X 296      -3.994  -3.368  -0.255  0.00  0.00            \n",
    "# ATOM   4578  N   ZE  X 296      -4.219  -1.934  -0.114  0.00  0.00            \n",
    "# ATOM   4579  H1  ZE  X 296      -4.384  -1.906   0.924  0.00  0.00            \n",
    "# ATOM   4580  H2  ZE  X 296      -5.041  -1.611  -0.590  0.00  0.00            \n",
    "# ATOM   4581  H3  ZE  X 296      -3.428  -1.388  -0.407  0.00  0.00            \n",
    "# ATOM   4582  HA  ZE  X 296      -4.602  -3.689  -1.090  0.00  0.00            \n",
    "# ATOM   4583  CB  ZE  X 296      -2.515  -3.656  -0.514  0.00  0.00            \n",
    "# ATOM   4584  HB2 ZE  X 296      -1.913  -3.275   0.304  0.00  0.00            \n",
    "# ATOM   4585  HB3 ZE  X 296      -2.349  -4.732  -0.554  0.00  0.00            \n",
    "# ATOM   4586  CG  ZE  X 296      -1.966  -2.992  -1.765  0.00  0.00            \n",
    "# ATOM   4587  HG2 ZE  X 296      -2.107  -1.921  -1.717  0.00  0.00            \n",
    "# ATOM   4588  HG3 ZE  X 296      -0.890  -3.155  -1.840  0.00  0.00            \n",
    "# ATOM   4589  CD  ZE  X 296      -2.580  -3.541  -3.037  0.00  0.00            \n",
    "# ATOM   4590  OE1 ZE  X 296      -2.644  -2.796  -4.037  0.00  0.00            \n",
    "# ATOM   4591  OE2 ZE  X 296      -2.994  -4.720  -3.041  0.00  0.00            "
   ]
  },
  {
   "cell_type": "code",
   "execution_count": 14,
   "metadata": {
    "collapsed": true
   },
   "outputs": [],
   "source": [
    "frames = 100"
   ]
  },
  {
   "cell_type": "code",
   "execution_count": 15,
   "metadata": {
    "collapsed": false
   },
   "outputs": [],
   "source": []
  },
  {
   "cell_type": "code",
   "execution_count": 16,
   "metadata": {
    "collapsed": false
   },
   "outputs": [],
   "source": []
  },
  {
   "cell_type": "code",
   "execution_count": 67,
   "metadata": {
    "collapsed": true
   },
   "outputs": [],
   "source": [
    "def make_frame_dict():\n",
    "    frame_dict = {}\n",
    "    for i in range(18):\n",
    "        frame_dict.update({i : {}}) \n",
    "\n",
    "    for atom in frame_dict.keys():\n",
    "        frame_dict[atom].update({0: 'ATOM'})\n",
    "        frame_dict[atom].update({3: 'ZE'})\n",
    "        frame_dict[atom].update({4: 'X'})\n",
    "        frame_dict[atom].update({5: '296'})\n",
    "        frame_dict[atom].update({9: '0.00'})\n",
    "        frame_dict[atom].update({10: '0.00'})\n",
    "\n",
    "    # ATOM   4574  O   ZE  X 296      -4.600  -5.348   0.962  0.00  0.00      \n",
    "    frame_dict[0].update({1: '4574'})\n",
    "    frame_dict[0].update({2: 'O'})\n",
    "    frame_dict[0].update({6: '-4.600'})\n",
    "    frame_dict[0].update({7: '-5.348'})\n",
    "    frame_dict[0].update({8: '0.962'})\n",
    "    #frame_dict[0].update({9: '0.48'})\n",
    "\n",
    "    # ATOM   4575  C   ZE  X 296      -4.466  -4.125   0.982  0.00  0.00\n",
    "    frame_dict[1].update({1: '4575'})\n",
    "    frame_dict[1].update({2: 'C'})\n",
    "    frame_dict[1].update({6: '-4.466'})\n",
    "    frame_dict[1].update({7: '-4.125'})\n",
    "    frame_dict[1].update({8: '0.982'})\n",
    "    #frame_dict[1].update({9: '0.67'})\n",
    "\n",
    "    # ATOM   4576  OXT ZE  X 296      -4.725  -3.531   2.028  0.00  0.00     \n",
    "    frame_dict[2].update({1: '4576'})\n",
    "    frame_dict[2].update({2: 'OXT'})\n",
    "    frame_dict[2].update({6: '-4.725'})\n",
    "    frame_dict[2].update({7: '-3.532'})\n",
    "    frame_dict[2].update({8: '2.028'})\n",
    "    #frame_dict[2].update({9: '0.60'})\n",
    "\n",
    "    # ATOM   4577  CA  ZE  X 296      -3.994  -3.368  -0.255  0.00  0.00\n",
    "    frame_dict[3].update({1: '4577'})\n",
    "    frame_dict[3].update({2: 'CA'})\n",
    "    frame_dict[3].update({6: '-3.994'})\n",
    "    frame_dict[3].update({7: '-3.368'})\n",
    "    frame_dict[3].update({8: '-0.255'})\n",
    "    #frame_dict[3].update({9: '0.67'})\n",
    "\n",
    "    # ATOM   4578  N   ZE  X 296      -4.219  -1.934  -0.114  0.00  0.00   \n",
    "    frame_dict[4].update({1: '4578'})\n",
    "    frame_dict[4].update({2: 'N'})\n",
    "    frame_dict[4].update({6: '-4.219'})\n",
    "    frame_dict[4].update({7: '-1.934'})\n",
    "    frame_dict[4].update({8: '-0.114'})\n",
    "    #frame_dict[4].update({9: '0.56'})\n",
    "\n",
    "    # ATOM   4579  H1  ZE  X 296      -4.384  -1.906   0.924  0.00  0.00 \n",
    "    frame_dict[5].update({1: '4579'})\n",
    "    frame_dict[5].update({2: 'H1'})\n",
    "    frame_dict[5].update({6: '-4.384'})\n",
    "    frame_dict[5].update({7: '-1.906'})\n",
    "    frame_dict[5].update({8: '0.924'})\n",
    "    #frame_dict[5].update({9: '0.53'})\n",
    "\n",
    "    # ATOM   4580  H2  ZE  X 296      -5.041  -1.611  -0.590  0.00  0.00   \n",
    "    frame_dict[6].update({1: '4580'})\n",
    "    frame_dict[6].update({2: 'H2'})\n",
    "    frame_dict[6].update({6: '-5.041'})\n",
    "    frame_dict[6].update({7: '-1.611'})\n",
    "    frame_dict[6].update({8: '-0.590'})\n",
    "    #frame_dict[6].update({9: '0.53'})\n",
    "\n",
    "    # ATOM   4581  H3  ZE  X 296      -3.428  -1.388  -0.407  0.00  0.00     \n",
    "    frame_dict[7].update({1: '4581'})\n",
    "    frame_dict[7].update({2: 'H3'})\n",
    "    frame_dict[7].update({6: '-3.428'})\n",
    "    frame_dict[7].update({7: '-1.388'})\n",
    "    frame_dict[7].update({8: '-0.407'})\n",
    "    #frame_dict[7].update({9: '0.53'})\n",
    "\n",
    "    # ATOM   4582  HA  ZE  X 296      -4.602  -3.689  -1.090  0.00  0.00   \n",
    "    frame_dict[8].update({1: '4582'})\n",
    "    frame_dict[8].update({2: 'HA'})\n",
    "    frame_dict[8].update({6: '-4.602'})\n",
    "    frame_dict[8].update({7: '-3.689'})\n",
    "    frame_dict[8].update({8: '-1.090'})\n",
    "    #frame_dict[8].update({9: '0.53'})\n",
    "\n",
    "    # ATOM   4583  CB  ZE  X 296      -2.515  -3.656  -0.514  0.00  0.00        \n",
    "    frame_dict[9].update({1: '4583'})\n",
    "    frame_dict[9].update({2: 'CB'})\n",
    "    frame_dict[9].update({6: '-2.515'})\n",
    "    frame_dict[9].update({7: '-3.656'})\n",
    "    frame_dict[9].update({8: '-0.514'})\n",
    "    #frame_dict[9].update({9: '0.67'})\n",
    "\n",
    "    # ATOM   4584  HB2 ZE  X 296      -1.913  -3.275   0.304  0.00  0.00    \n",
    "    frame_dict[10].update({1: '4584'})\n",
    "    frame_dict[10].update({2: 'HB2'})\n",
    "    frame_dict[10].update({6: '-1.913'})\n",
    "    frame_dict[10].update({7: '-3.275'})\n",
    "    frame_dict[10].update({8: '0.304'})\n",
    "    #frame_dict[10].update({9: '0.53'})\n",
    "\n",
    "    # ATOM   4585  HB3 ZE  X 296      -2.349  -4.732  -0.554  0.00  0.00     \n",
    "    frame_dict[11].update({1: '4585'})\n",
    "    frame_dict[11].update({2: 'HB3'})\n",
    "    frame_dict[11].update({6: '-2.349'})\n",
    "    frame_dict[11].update({7: '-4.732'})\n",
    "    frame_dict[11].update({8: '-0.554'})\n",
    "    #frame_dict[11].update({9: '0.53'})\n",
    "\n",
    "    # ATOM   4586  CG  ZE  X 296      -1.966  -2.992  -1.765  0.00  0.00 \n",
    "    frame_dict[12].update({1: '4586'})\n",
    "    frame_dict[12].update({2: 'CG'})\n",
    "    frame_dict[12].update({6: '-1.966'})\n",
    "    frame_dict[12].update({7: '-2.992'})\n",
    "    frame_dict[12].update({8: '-1.765'})\n",
    "    #frame_dict[12].update({9: '0.67'})\n",
    "\n",
    "    # ATOM   4587  HG2 ZE  X 296      -2.107  -1.921  -1.717  0.00  0.00      \n",
    "    frame_dict[13].update({1: '4587'})\n",
    "    frame_dict[13].update({2: 'HG2'})\n",
    "    frame_dict[13].update({6: '-2.107'})\n",
    "    frame_dict[13].update({7: '-1.921'})\n",
    "    frame_dict[13].update({8: '-1.717'})\n",
    "    #frame_dict[13].update({9: '0.53'})\n",
    "\n",
    "    # ATOM   4588  HG3 ZE  X 296      -0.890  -3.155  -1.840  0.00  0.00     \n",
    "    frame_dict[14].update({1: '4588'})\n",
    "    frame_dict[14].update({2: 'HG3'})\n",
    "    frame_dict[14].update({6: '-0.890'})\n",
    "    frame_dict[14].update({7: '-3.155'})\n",
    "    frame_dict[14].update({8: '-1.840'})\n",
    "    #frame_dict[14].update({9: '0.53'})\n",
    "\n",
    "    # ATOM   4589  CD  ZE  X 296      -2.580  -3.541  -3.037  0.00  0.00   \n",
    "    frame_dict[15].update({1: '4589'})\n",
    "    frame_dict[15].update({2: 'CD'})\n",
    "    frame_dict[15].update({6: '-2.580'})\n",
    "    frame_dict[15].update({7: '-3.541'})\n",
    "    frame_dict[15].update({8: '-3.037'})\n",
    "    #frame_dict[15].update({9: '0.67'})\n",
    "\n",
    "    # ATOM   4590  OE1 ZE  X 296      -2.644  -2.796  -4.037  0.00  0.00   \n",
    "    frame_dict[16].update({1: '4590'})\n",
    "    frame_dict[16].update({2: 'OE1'})\n",
    "    frame_dict[16].update({6: '-2.644'})\n",
    "    frame_dict[16].update({7: '-2.796'})\n",
    "    frame_dict[16].update({8: '-4.037'})\n",
    "    #frame_dict[16].update({9: '0.48'})\n",
    "\n",
    "    # ATOM   4591  OE2 ZE  X 296      -2.994  -4.720  -3.041  0.00  0.00 \n",
    "    frame_dict[17].update({1: '4591'})\n",
    "    frame_dict[17].update({2: 'OE2'})\n",
    "    frame_dict[17].update({6: '-2.994'})\n",
    "    frame_dict[17].update({7: '-4.720'})\n",
    "    frame_dict[17].update({8: '-3.041'})\n",
    "    #frame_dict[17].update({9: '0.48'})\n",
    "    \n",
    "    for j in range(17):\n",
    "        frame_dict[j][6] = round(float(frame_dict[j][6]),3)\n",
    "        frame_dict[j][7] = round(float(frame_dict[j][7]),3)\n",
    "        frame_dict[j][8] = round(float(frame_dict[j][8]),3)\n",
    "    \n",
    "    return(frame_dict)\n"
   ]
  },
  {
   "cell_type": "code",
   "execution_count": 68,
   "metadata": {
    "collapsed": false
   },
   "outputs": [],
   "source": [
    "frame_dict = make_frame_dict()"
   ]
  },
  {
   "cell_type": "code",
   "execution_count": 69,
   "metadata": {
    "collapsed": false
   },
   "outputs": [
    {
     "data": {
      "text/plain": [
       "{0: 'ATOM',\n",
       " 1: '4574',\n",
       " 2: 'O',\n",
       " 3: 'ZE',\n",
       " 4: 'X',\n",
       " 5: '296',\n",
       " 6: -4.6,\n",
       " 7: -5.348,\n",
       " 8: 0.962,\n",
       " 9: '0.00',\n",
       " 10: '0.00'}"
      ]
     },
     "execution_count": 69,
     "metadata": {},
     "output_type": "execute_result"
    }
   ],
   "source": [
    "frame_dict[0]"
   ]
  },
  {
   "cell_type": "code",
   "execution_count": 70,
   "metadata": {
    "collapsed": false
   },
   "outputs": [],
   "source": [
    "import numpy as np"
   ]
  },
  {
   "cell_type": "code",
   "execution_count": 71,
   "metadata": {
    "collapsed": false
   },
   "outputs": [
    {
     "data": {
      "text/plain": [
       "-0.15622748118394197"
      ]
     },
     "execution_count": 71,
     "metadata": {},
     "output_type": "execute_result"
    }
   ],
   "source": [
    "np.random.randn()"
   ]
  },
  {
   "cell_type": "code",
   "execution_count": 72,
   "metadata": {
    "collapsed": false
   },
   "outputs": [
    {
     "name": "stdout",
     "output_type": "stream",
     "text": [
      "0\tATOM\t4574\tO\tZE\tX\t296\t-4.6\t-5.348\t0.962\t0.00\t0.00\t\n",
      "0\tATOM\t4575\tC\tZE\tX\t296\t-4.466\t-4.125\t0.982\t0.00\t0.00\t\n",
      "0\tATOM\t4576\tOXT\tZE\tX\t296\t-4.725\t-3.532\t2.028\t0.00\t0.00\t\n",
      "0\tATOM\t4577\tCA\tZE\tX\t296\t-3.994\t-3.368\t-0.255\t0.00\t0.00\t\n",
      "0\tATOM\t4578\tN\tZE\tX\t296\t-4.219\t-1.934\t-0.114\t0.00\t0.00\t\n",
      "0\tATOM\t4579\tH1\tZE\tX\t296\t-4.384\t-1.906\t0.924\t0.00\t0.00\t\n",
      "0\tATOM\t4580\tH2\tZE\tX\t296\t-5.041\t-1.611\t-0.59\t0.00\t0.00\t\n",
      "0\tATOM\t4581\tH3\tZE\tX\t296\t-3.428\t-1.388\t-0.407\t0.00\t0.00\t\n",
      "0\tATOM\t4582\tHA\tZE\tX\t296\t-4.602\t-3.689\t-1.09\t0.00\t0.00\t\n",
      "0\tATOM\t4583\tCB\tZE\tX\t296\t-2.515\t-3.656\t-0.514\t0.00\t0.00\t\n",
      "0\tATOM\t4584\tHB2\tZE\tX\t296\t-1.913\t-3.275\t0.304\t0.00\t0.00\t\n",
      "0\tATOM\t4585\tHB3\tZE\tX\t296\t-2.349\t-4.732\t-0.554\t0.00\t0.00\t\n",
      "0\tATOM\t4586\tCG\tZE\tX\t296\t-1.966\t-2.992\t-1.765\t0.00\t0.00\t\n",
      "0\tATOM\t4587\tHG2\tZE\tX\t296\t-2.107\t-1.921\t-1.717\t0.00\t0.00\t\n",
      "0\tATOM\t4588\tHG3\tZE\tX\t296\t-0.89\t-3.155\t-1.84\t0.00\t0.00\t\n",
      "0\tATOM\t4589\tCD\tZE\tX\t296\t-2.58\t-3.541\t-3.037\t0.00\t0.00\t\n",
      "0\tATOM\t4590\tOE1\tZE\tX\t296\t-2.644\t-2.796\t-4.037\t0.00\t0.00\t\n",
      "1\tATOM\t4574\tO\tZE\tX\t296\t-4.699\t-5.391\t1.014\t0.00\t0.00\t\n",
      "1\tATOM\t4575\tC\tZE\tX\t296\t-4.369\t-4.118\t0.88\t0.00\t0.00\t\n",
      "1\tATOM\t4576\tOXT\tZE\tX\t296\t-4.711\t-3.603\t2.036\t0.00\t0.00\t\n",
      "1\tATOM\t4577\tCA\tZE\tX\t296\t-3.998\t-3.406\t-0.241\t0.00\t0.00\t\n",
      "1\tATOM\t4578\tN\tZE\tX\t296\t-4.256\t-2.189\t-0.06\t0.00\t0.00\t\n",
      "1\tATOM\t4579\tH1\tZE\tX\t296\t-4.437\t-1.827\t0.843\t0.00\t0.00\t\n",
      "1\tATOM\t4580\tH2\tZE\tX\t296\t-4.882\t-1.653\t-0.754\t0.00\t0.00\t\n",
      "1\tATOM\t4581\tH3\tZE\tX\t296\t-3.561\t-1.361\t-0.224\t0.00\t0.00\t\n",
      "1\tATOM\t4582\tHA\tZE\tX\t296\t-4.534\t-3.721\t-1.12\t0.00\t0.00\t\n",
      "1\tATOM\t4583\tCB\tZE\tX\t296\t-2.352\t-3.86\t-0.414\t0.00\t0.00\t\n",
      "1\tATOM\t4584\tHB2\tZE\tX\t296\t-1.919\t-3.21\t0.211\t0.00\t0.00\t\n",
      "1\tATOM\t4585\tHB3\tZE\tX\t296\t-2.287\t-4.516\t-0.444\t0.00\t0.00\t\n",
      "1\tATOM\t4586\tCG\tZE\tX\t296\t-1.941\t-3.088\t-1.833\t0.00\t0.00\t\n",
      "1\tATOM\t4587\tHG2\tZE\tX\t296\t-1.828\t-2.024\t-1.718\t0.00\t0.00\t\n",
      "1\tATOM\t4588\tHG3\tZE\tX\t296\t-0.797\t-3.144\t-1.889\t0.00\t0.00\t\n",
      "1\tATOM\t4589\tCD\tZE\tX\t296\t-2.376\t-3.466\t-3.119\t0.00\t0.00\t\n",
      "1\tATOM\t4590\tOE1\tZE\tX\t296\t-2.516\t-2.615\t-4.113\t0.00\t0.00\t\n",
      "2\tATOM\t4574\tO\tZE\tX\t296\t-4.886\t-5.471\t1.016\t0.00\t0.00\t\n",
      "2\tATOM\t4575\tC\tZE\tX\t296\t-4.436\t-4.222\t0.814\t0.00\t0.00\t\n",
      "2\tATOM\t4576\tOXT\tZE\tX\t296\t-4.774\t-3.598\t2.002\t0.00\t0.00\t\n",
      "2\tATOM\t4577\tCA\tZE\tX\t296\t-3.854\t-3.531\t-0.432\t0.00\t0.00\t\n",
      "2\tATOM\t4578\tN\tZE\tX\t296\t-4.226\t-2.143\t-0.149\t0.00\t0.00\t\n",
      "2\tATOM\t4579\tH1\tZE\tX\t296\t-4.374\t-1.82\t0.935\t0.00\t0.00\t\n",
      "2\tATOM\t4580\tH2\tZE\tX\t296\t-4.854\t-1.789\t-0.651\t0.00\t0.00\t\n",
      "2\tATOM\t4581\tH3\tZE\tX\t296\t-3.568\t-1.451\t-0.382\t0.00\t0.00\t\n",
      "2\tATOM\t4582\tHA\tZE\tX\t296\t-4.694\t-3.75\t-1.284\t0.00\t0.00\t\n",
      "2\tATOM\t4583\tCB\tZE\tX\t296\t-2.401\t-3.772\t-0.564\t0.00\t0.00\t\n",
      "2\tATOM\t4584\tHB2\tZE\tX\t296\t-2.014\t-3.215\t0.219\t0.00\t0.00\t\n",
      "2\tATOM\t4585\tHB3\tZE\tX\t296\t-2.325\t-4.496\t-0.358\t0.00\t0.00\t\n",
      "2\tATOM\t4586\tCG\tZE\tX\t296\t-1.986\t-2.996\t-2.005\t0.00\t0.00\t\n",
      "2\tATOM\t4587\tHG2\tZE\tX\t296\t-1.816\t-1.932\t-1.647\t0.00\t0.00\t\n",
      "2\tATOM\t4588\tHG3\tZE\tX\t296\t-0.738\t-3.058\t-1.864\t0.00\t0.00\t\n",
      "2\tATOM\t4589\tCD\tZE\tX\t296\t-2.322\t-3.392\t-3.325\t0.00\t0.00\t\n",
      "2\tATOM\t4590\tOE1\tZE\tX\t296\t-2.466\t-2.635\t-4.311\t0.00\t0.00\t\n"
     ]
    }
   ],
   "source": [
    "reads_output = file('./nonphys_traj.txt', 'w')\n",
    "\n",
    "frame_dict = make_frame_dict()\n",
    "#fake_traj = open(reads_file,'w')\n",
    "for i in range(3):\n",
    "    for j in range(17):\n",
    "        string = str(i)+\"\\t\"\n",
    "        for k in range(11):\n",
    "            string += str(frame_dict[j][k]) + \"\\t\"\n",
    "            \n",
    "        print(string)\n",
    "        reads_output.write(string+\"\\n\")\n",
    "        \n",
    "        frame_dict[j][6] += np.random.randn()/10.\n",
    "        frame_dict[j][7] += np.random.randn()/10.\n",
    "        frame_dict[j][8] += np.random.randn()/10.\n",
    "        \n",
    "        frame_dict[j][6] = round(float(frame_dict[j][6]),3)\n",
    "        frame_dict[j][7] = round(float(frame_dict[j][7]),3)\n",
    "        frame_dict[j][8] = round(float(frame_dict[j][8]),3)\n",
    "\n",
    "                \n",
    "reads_output.close()"
   ]
  },
  {
   "cell_type": "code",
   "execution_count": null,
   "metadata": {
    "collapsed": true
   },
   "outputs": [],
   "source": []
  },
  {
   "cell_type": "code",
   "execution_count": null,
   "metadata": {
    "collapsed": true
   },
   "outputs": [],
   "source": [
    "    for i in range(nreads):\n",
    "        reads_output.write(\"%s\\n\" % reads_list[i])\n",
    "    reads_output.close()"
   ]
  }
 ],
 "metadata": {
  "anaconda-cloud": {},
  "kernelspec": {
   "display_name": "Python [conda root]",
   "language": "python",
   "name": "conda-root-py"
  },
  "language_info": {
   "codemirror_mode": {
    "name": "ipython",
    "version": 2
   },
   "file_extension": ".py",
   "mimetype": "text/x-python",
   "name": "python",
   "nbconvert_exporter": "python",
   "pygments_lexer": "ipython2",
   "version": "2.7.11"
  }
 },
 "nbformat": 4,
 "nbformat_minor": 2
}
